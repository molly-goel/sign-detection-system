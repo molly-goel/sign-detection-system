{
 "cells": [
  {
   "cell_type": "code",
   "execution_count": 1,
   "id": "572ab8f5",
   "metadata": {},
   "outputs": [],
   "source": [
    "import numpy as np \n",
    "import pandas as pd \n",
    "import matplotlib.pyplot as plt \n",
    "from tensorflow.keras import layers \n",
    "from tensorflow.keras.preprocessing.image import ImageDataGenerator\n",
    "from tensorflow.keras.models import Sequential \n",
    "from keras.callbacks import ModelCheckpoint, EarlyStopping, ReduceLROnPlateau\n",
    "from tensorflow.keras.layers import Conv2D, MaxPooling2D \n",
    "from tensorflow.keras.layers import Activation, Dropout, Flatten, Dense \n",
    "from tensorflow.keras.optimizers import Adam \n",
    "import tensorflow as tf \n",
    "import warnings\n",
    "warnings.filterwarnings(\"ignore\")"
   ]
  },
  {
   "cell_type": "code",
   "execution_count": 2,
   "id": "3d4836da",
   "metadata": {},
   "outputs": [],
   "source": [
    "base_dir = r\"D:\\User Data\\Desktop\\Profile Project\\Connected Projects\\BSL_digits_recoginition\\data\"\n",
    "img_size = 224\n",
    "batch = 32"
   ]
  },
  {
   "cell_type": "code",
   "execution_count": 3,
   "id": "c13dfe44",
   "metadata": {},
   "outputs": [
    {
     "name": "stdout",
     "output_type": "stream",
     "text": [
      "Found 240 images belonging to 3 classes.\n",
      "Found 60 images belonging to 3 classes.\n"
     ]
    }
   ],
   "source": [
    "# Create a data augmentor\n",
    "train_datagen = ImageDataGenerator(rescale=1. / 255, shear_range=0.2,zoom_range=0.2, horizontal_flip=True, \n",
    "                                   validation_split=0.2) \n",
    "  \n",
    "test_datagen = ImageDataGenerator(rescale=1. / 255, validation_split=0.2) \n",
    "  \n",
    "# Create datasets \n",
    "train_datagen = train_datagen.flow_from_directory(base_dir, target_size=(img_size, img_size), \n",
    "                                                  subset='training',batch_size=batch) \n",
    "\n",
    "test_datagen = test_datagen.flow_from_directory(base_dir,target_size=(img_size, img_size), \n",
    "                                                subset='validation',batch_size=batch) "
   ]
  },
  {
   "cell_type": "code",
   "execution_count": 4,
   "id": "75278d7e",
   "metadata": {},
   "outputs": [],
   "source": [
    "class_labels=[\"ZERO\",\"ONE\",\"TWO\"]"
   ]
  },
  {
   "cell_type": "code",
   "execution_count": 5,
   "id": "41afaf73",
   "metadata": {},
   "outputs": [
    {
     "name": "stdout",
     "output_type": "stream",
     "text": [
      "Model: \"sequential\"\n",
      "_________________________________________________________________\n",
      " Layer (type)                Output Shape              Param #   \n",
      "=================================================================\n",
      " vgg16 (Functional)          (None, 7, 7, 512)         14714688  \n",
      "                                                                 \n",
      " flatten (Flatten)           (None, 25088)             0         \n",
      "                                                                 \n",
      " dense (Dense)               (None, 4096)              102764544 \n",
      "                                                                 \n",
      " dense_1 (Dense)             (None, 4096)              16781312  \n",
      "                                                                 \n",
      " dense_2 (Dense)             (None, 3)                 12291     \n",
      "                                                                 \n",
      "=================================================================\n",
      "Total params: 134272835 (512.21 MB)\n",
      "Trainable params: 119558147 (456.08 MB)\n",
      "Non-trainable params: 14714688 (56.13 MB)\n",
      "_________________________________________________________________\n"
     ]
    }
   ],
   "source": [
    "# Load the pre-trained VGG16 model\n",
    "from tensorflow.keras import layers, models\n",
    "base_model = tf.keras.applications.VGG16(weights='imagenet', include_top=False, input_shape=(224, 224, 3))\n",
    "\n",
    "# Freeze the layers of the pre-trained model\n",
    "for layer in base_model.layers:\n",
    "    layer.trainable = False\n",
    "\n",
    "# Create a new model by adding custom layers on top of the pre-trained model\n",
    "model = models.Sequential()\n",
    "model.add(base_model)\n",
    "model.add(layers.Flatten())\n",
    "model.add(layers.Dense(4096, activation='relu'))\n",
    "model.add(layers.Dense(4096, activation='relu'))\n",
    "model.add(layers.Dense(3, activation='softmax'))  # 3 output classes\n",
    "\n",
    "# Compile the model\n",
    "model.compile(optimizer='adam', loss='categorical_crossentropy', metrics=['accuracy'])\n",
    "\n",
    "# Display the model summary\n",
    "model.summary()"
   ]
  },
  {
   "cell_type": "code",
   "execution_count": 6,
   "id": "c50889f7",
   "metadata": {},
   "outputs": [],
   "source": [
    "model.compile(optimizer = Adam(learning_rate=0.001), loss='categorical_crossentropy', metrics=['accuracy'])"
   ]
  },
  {
   "cell_type": "code",
   "execution_count": 7,
   "id": "48fd188b",
   "metadata": {},
   "outputs": [],
   "source": [
    "# determine early stoping mechanism\n",
    "early_stopping = EarlyStopping(monitor='val_loss',\n",
    "                          min_delta=0,\n",
    "                          patience=3,\n",
    "                          verbose=1,\n",
    "                          restore_best_weights=True\n",
    "                          )\n",
    "\n",
    "# Instantiate ModelCheckpoint callback\n",
    "checkpoint = ModelCheckpoint(filepath='best_model.h5',\n",
    "                             monitor='val_loss',\n",
    "                             save_best_only=True,\n",
    "                             save_weights_only=False,\n",
    "                             mode='min',\n",
    "                             verbose=1)\n",
    "\n",
    "# reduce learning rate mechanism\n",
    "reduce_learningrate = ReduceLROnPlateau(monitor='val_loss',\n",
    "                              factor=0.2,\n",
    "                              patience=3,\n",
    "                              verbose=1,\n",
    "                              min_delta=0.0001)\n",
    "\n",
    "# make callback as a list\n",
    "callbacks_list = [early_stopping,checkpoint,reduce_learningrate]\n"
   ]
  },
  {
   "cell_type": "code",
   "execution_count": 10,
   "id": "72c7b49f",
   "metadata": {},
   "outputs": [
    {
     "name": "stdout",
     "output_type": "stream",
     "text": [
      "Epoch 1/5\n",
      "7/7 [==============================] - ETA: 0s - loss: 6.1689e-06 - accuracy: 1.0000 \n",
      "Epoch 1: val_loss improved from 0.00000 to 0.00000, saving model to best_model.h5\n",
      "7/7 [==============================] - 112s 16s/step - loss: 6.1689e-06 - accuracy: 1.0000 - val_loss: 4.8056e-07 - val_accuracy: 1.0000 - lr: 2.0000e-04\n",
      "Epoch 2/5\n",
      "7/7 [==============================] - ETA: 0s - loss: 1.0995e-05 - accuracy: 1.0000 \n",
      "Epoch 2: val_loss did not improve from 0.00000\n",
      "7/7 [==============================] - 101s 15s/step - loss: 1.0995e-05 - accuracy: 1.0000 - val_loss: 5.5879e-07 - val_accuracy: 1.0000 - lr: 2.0000e-04\n",
      "Epoch 3/5\n",
      "7/7 [==============================] - ETA: 0s - loss: 1.2820e-06 - accuracy: 1.0000 \n",
      "Epoch 3: val_loss improved from 0.00000 to 0.00000, saving model to best_model.h5\n",
      "7/7 [==============================] - 121s 17s/step - loss: 1.2820e-06 - accuracy: 1.0000 - val_loss: 3.9488e-07 - val_accuracy: 1.0000 - lr: 2.0000e-04\n",
      "Epoch 4/5\n",
      "7/7 [==============================] - ETA: 0s - loss: 3.5357e-06 - accuracy: 1.0000 \n",
      "Epoch 4: val_loss did not improve from 0.00000\n",
      "\n",
      "Epoch 4: ReduceLROnPlateau reducing learning rate to 4.0000001899898055e-05.\n",
      "7/7 [==============================] - 116s 17s/step - loss: 3.5357e-06 - accuracy: 1.0000 - val_loss: 4.0606e-07 - val_accuracy: 1.0000 - lr: 2.0000e-04\n",
      "Epoch 5/5\n",
      "7/7 [==============================] - ETA: 0s - loss: 2.3875e-06 - accuracy: 1.0000 \n",
      "Epoch 5: val_loss did not improve from 0.00000\n",
      "7/7 [==============================] - 109s 17s/step - loss: 2.3875e-06 - accuracy: 1.0000 - val_loss: 4.4331e-07 - val_accuracy: 1.0000 - lr: 4.0000e-05\n"
     ]
    }
   ],
   "source": [
    "#epoch size\n",
    "epochs=5\n",
    "num_train_imgs=240\n",
    "num_test_imgs=60\n",
    "\n",
    "# fit model\n",
    "history=model.fit(train_datagen,\n",
    "                steps_per_epoch=num_train_imgs//train_datagen.batch_size,\n",
    "                epochs=epochs,\n",
    "                validation_data=test_datagen,\n",
    "                validation_steps=num_test_imgs//test_datagen.batch_size,\n",
    "                callbacks=callbacks_list)"
   ]
  },
  {
   "cell_type": "code",
   "execution_count": 12,
   "id": "9344657b",
   "metadata": {},
   "outputs": [
    {
     "data": {
      "image/png": "[encoded data removed]",
      "text/plain": [
       "<Figure size 1000x400 with 2 Axes>"
      ]
     },
     "metadata": {},
     "output_type": "display_data"
    }
   ],
   "source": [
    "import matplotlib.pyplot as plt\n",
    "epochs = 5\n",
    "\n",
    "acc = history.history['accuracy']\n",
    "val_acc = history.history['val_accuracy']\n",
    "\n",
    "loss = history.history['loss']\n",
    "val_loss = history.history['val_loss']\n",
    "\n",
    "epochs_range = range(epochs)\n",
    "#plot traing and validation accuracy\n",
    "plt.figure(figsize=(10, 4))\n",
    "plt.subplot(1, 2, 1)\n",
    "plt.plot(epochs_range, acc, label='Training Accuracy')\n",
    "plt.plot(epochs_range, val_acc, label='Validation Accuracy')\n",
    "plt.xlabel(\"Epoch\")\n",
    "plt.ylabel(\"Accuracy\")\n",
    "plt.legend(loc='lower right')\n",
    "plt.title('Training and Validation Accuracy')\n",
    "plt.grid()\n",
    "\n",
    "#plot traing and validation loss\n",
    "plt.subplot(1, 2, 2)\n",
    "plt.plot(epochs_range, loss, label='Training Loss')\n",
    "plt.plot(epochs_range, val_loss, label='Validation Loss')\n",
    "plt.xlabel(\"Epoch\")\n",
    "plt.ylabel(\"Accuracy\")\n",
    "plt.legend(loc='upper right')\n",
    "plt.title('Training and Validation Loss')\n",
    "plt.grid()\n",
    "plt.show()\n"
   ]
  },
  {
   "cell_type": "code",
   "execution_count": 14,
   "id": "f0acf48e",
   "metadata": {},
   "outputs": [
    {
     "name": "stdout",
     "output_type": "stream",
     "text": [
      "2/2 [==============================] - 20s 9s/step\n",
      "Classification Report:\n",
      "              precision    recall  f1-score   support\n",
      "\n",
      "           0       0.35      0.35      0.35        20\n",
      "           1       0.25      0.25      0.25        20\n",
      "           2       0.30      0.30      0.30        20\n",
      "\n",
      "    accuracy                           0.30        60\n",
      "   macro avg       0.30      0.30      0.30        60\n",
      "weighted avg       0.30      0.30      0.30        60\n",
      "\n"
     ]
    }
   ],
   "source": [
    "from sklearn.metrics import classification_report\n",
    "import numpy as np\n",
    "\n",
    "# Generate predictions for the validation data\n",
    "y_pred = model.predict(test_datagen)\n",
    "\n",
    "# Convert predicted probabilities to class labels\n",
    "y_pred_classes = np.argmax(y_pred, axis=1)\n",
    "\n",
    "# Get true labels from the validation generator\n",
    "y_true = test_datagen.classes\n",
    "\n",
    "# Get the class labels\n",
    "class_labels = list(test_datagen.class_indices.keys())\n",
    "\n",
    "# Print classification report\n",
    "print(\"Classification Report:\")\n",
    "print(classification_report(y_true, y_pred_classes, target_names=class_labels))"
   ]
  },
  {
   "cell_type": "code",
   "execution_count": 16,
   "id": "67977002",
   "metadata": {},
   "outputs": [
    {
     "name": "stdout",
     "output_type": "stream",
     "text": [
      "2/2 [==============================] - 19s 9s/step - loss: 4.1326e-07 - accuracy: 1.0000\n",
      "8/8 [==============================] - 105s 13s/step - loss: 1.4283e-05 - accuracy: 1.0000\n"
     ]
    }
   ],
   "source": [
    "validation_loss, validation_accuracy = model.evaluate(test_datagen)\n",
    "training_loss, training_accuracy = model.evaluate(train_datagen)"
   ]
  },
  {
   "cell_type": "code",
   "execution_count": null,
   "id": "615e775d",
   "metadata": {},
   "outputs": [],
   "source": []
  },
  {
   "cell_type": "code",
   "execution_count": null,
   "id": "cfbb7827",
   "metadata": {},
   "outputs": [],
   "source": []
  },
  {
   "cell_type": "code",
   "execution_count": 1,
   "id": "7104eadc",
   "metadata": {},
   "outputs": [
    {
     "ename": "NameError",
     "evalue": "name 'model' is not defined",
     "output_type": "error",
     "traceback": [
      "\u001b[1;31m---------------------------------------------------------------------------\u001b[0m",
      "\u001b[1;31mNameError\u001b[0m                                 Traceback (most recent call last)",
      "Cell \u001b[1;32mIn[1], line 58\u001b[0m\n\u001b[0;32m     55\u001b[0m x2 \u001b[38;5;241m=\u001b[39m \u001b[38;5;28mint\u001b[39m(\u001b[38;5;28mmax\u001b[39m(x_) \u001b[38;5;241m*\u001b[39m W) \u001b[38;5;241m-\u001b[39m \u001b[38;5;241m10\u001b[39m\n\u001b[0;32m     56\u001b[0m y2 \u001b[38;5;241m=\u001b[39m \u001b[38;5;28mint\u001b[39m(\u001b[38;5;28mmax\u001b[39m(y_) \u001b[38;5;241m*\u001b[39m H) \u001b[38;5;241m-\u001b[39m \u001b[38;5;241m10\u001b[39m\n\u001b[1;32m---> 58\u001b[0m prediction \u001b[38;5;241m=\u001b[39m \u001b[43mmodel\u001b[49m\u001b[38;5;241m.\u001b[39mpredict([np\u001b[38;5;241m.\u001b[39masarray(data_aux)])\n\u001b[0;32m     59\u001b[0m \u001b[38;5;28mprint\u001b[39m(prediction)\n\u001b[0;32m     60\u001b[0m predicted_character \u001b[38;5;241m=\u001b[39m labels_dict[\u001b[38;5;28mint\u001b[39m(prediction[\u001b[38;5;241m0\u001b[39m])]\n",
      "\u001b[1;31mNameError\u001b[0m: name 'model' is not defined"
     ]
    }
   ],
   "source": [
    "\n"
   ]
  },
  {
   "cell_type": "code",
   "execution_count": null,
   "id": "20b5561e",
   "metadata": {},
   "outputs": [],
   "source": []
  }
 ],
 "metadata": {
  "kernelspec": {
   "display_name": "Python 3 (ipykernel)",
   "language": "python",
   "name": "python3"
  },
  "language_info": {
   "codemirror_mode": {
    "name": "ipython",
    "version": 3
   },
   "file_extension": ".py",
   "mimetype": "text/x-python",
   "name": "python",
   "nbconvert_exporter": "python",
   "pygments_lexer": "ipython3",
   "version": "3.8.8"
  }
 },
 "nbformat": 4,
 "nbformat_minor": 5
}
